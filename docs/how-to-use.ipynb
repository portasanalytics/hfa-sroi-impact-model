{
 "cells": [
  {
   "cell_type": "markdown",
   "metadata": {},
   "source": [
    "### Demo of girls impacted measurement framework"
   ]
  },
  {
   "cell_type": "code",
   "execution_count": 1,
   "metadata": {},
   "outputs": [],
   "source": [
    "from impactPy.utils import Initiative, ProgramRun, ProgramSimulator\n",
    "\n",
    "import matplotlib.pyplot as plt"
   ]
  },
  {
   "cell_type": "markdown",
   "metadata": {},
   "source": [
    "#### Step 1 - Define initiative template\n",
    "\n",
    "This allows you to specify a template for a given type of initiative. The key inputs are the initiative type, length and group targeted.\n",
    "\n",
    "We could also add some additional factors here, either as additional inputs to the model or simply for reporting purposes e.g. a specific sport."
   ]
  },
  {
   "cell_type": "code",
   "execution_count": 2,
   "metadata": {},
   "outputs": [],
   "source": [
    "# Define initiative template\n",
    "coach_training = Initiative(initiative_id = 1, initiative_type = 'Leverage - coaching - scale', target_group = 1,  duration = 12)"
   ]
  },
  {
   "cell_type": "markdown",
   "metadata": {},
   "source": [
    "#### Step 2 - Define an instance of the initiative being run\n",
    "\n",
    "This now allows you to input information on the geography the initiative runs in (via the local activity rate), how successful the program was at targeting a given type of girl, the number of participants and how well it was implemented."
   ]
  },
  {
   "cell_type": "code",
   "execution_count": 3,
   "metadata": {},
   "outputs": [],
   "source": [
    "# Define a particular instance of the initiative running, with a location specific activity rate, no. participants, implementation score etc\n",
    "london_coach_training = ProgramRun(coach_training, \n",
    "                                   local_activity_rate=0.5, \n",
    "                                   targeting_success = 0.5,\n",
    "                                   num_participants = 100,\n",
    "                                   implementation_success = 1)"
   ]
  },
  {
   "cell_type": "markdown",
   "metadata": {},
   "source": [
    "#### Step 3 - Calculate outputs\n",
    "\n",
    "Some of the outputs we can calculate include the new average activity rate for program participants, the delta in activity rate before and after the program runs, and the estimated number of girls 'impacted' i.e. previously inactive and now projected to be active."
   ]
  },
  {
   "cell_type": "code",
   "execution_count": 4,
   "metadata": {},
   "outputs": [
    {
     "name": "stdout",
     "output_type": "stream",
     "text": [
      "Baseline activity rate: 0.25\n",
      "Updated activity rate: 0.352\n",
      "Girls impacted: 122.4\n"
     ]
    }
   ],
   "source": [
    "print(f'Baseline activity rate: {london_coach_training._baseline_activity_rate}')\n",
    "\n",
    "print(f'Updated activity rate: {london_coach_training.estimate_new_activity_rate()}')\n",
    "\n",
    "print(f'Girls impacted: {london_coach_training.estimate_girls_impacted()}')"
   ]
  },
  {
   "cell_type": "markdown",
   "metadata": {},
   "source": [
    "It's also possible to project a distribution of activity levels pre- and post- participation in the program. \n",
    "\n",
    "To do this, you need to input some assumptions on the mean active minutes for active and inactive people respectively. This relies on the assumption that the underlying distribution is bimodal i.e. has two peaks, one around the average for people not participating in some form of daily activity and one around the average for those that do. "
   ]
  },
  {
   "cell_type": "code",
   "execution_count": 5,
   "metadata": {},
   "outputs": [
    {
     "data": {
      "text/plain": [
       "(array([ 21.,  79., 210., 261., 191., 139., 142., 116.,  33.,   8.]),\n",
       " array([-29.05068615, -15.48961292,  -1.9285397 ,  11.63253353,\n",
       "         25.19360675,  38.75467998,  52.31575321,  65.87682643,\n",
       "         79.43789966,  92.99897289, 106.56004611]),\n",
       " <BarContainer object of 10 artists>)"
      ]
     },
     "execution_count": 5,
     "metadata": {},
     "output_type": "execute_result"
    },
    {
     "data": {
      "image/png": "[encoded data removed]",
      "text/plain": [
       "<Figure size 640x480 with 1 Axes>"
      ]
     },
     "metadata": {},
     "output_type": "display_data"
    }
   ],
   "source": [
    "program_baseline= london_coach_training.participant_outcomes(mean_active = 60, mean_inactive = 15, sd = 15, baseline=True)\n",
    "\n",
    "program_results= london_coach_training.participant_outcomes(mean_active = 60, mean_inactive = 15, sd = 15, baseline=False)\n",
    "\n",
    "plt.hist(program_baseline, color='blue', alpha = 0.5)\n",
    "\n",
    "plt.hist(program_results, color='lightblue', alpha = 0.5)"
   ]
  }
 ],
 "metadata": {
  "kernelspec": {
   "display_name": "venv",
   "language": "python",
   "name": "python3"
  },
  "language_info": {
   "codemirror_mode": {
    "name": "ipython",
    "version": 3
   },
   "file_extension": ".py",
   "mimetype": "text/x-python",
   "name": "python",
   "nbconvert_exporter": "python",
   "pygments_lexer": "ipython3",
   "version": "3.12.2"
  }
 },
 "nbformat": 4,
 "nbformat_minor": 2
}
